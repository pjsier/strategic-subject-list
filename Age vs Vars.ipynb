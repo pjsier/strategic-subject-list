{
 "cells": [
  {
   "cell_type": "code",
   "execution_count": 1,
   "metadata": {
    "collapsed": true
   },
   "outputs": [],
   "source": [
    "import numpy as np\n",
    "import pandas as pd\n",
    "import matplotlib.pyplot as plt\n",
    "import seaborn as sns\n",
    "%matplotlib inline"
   ]
  },
  {
   "cell_type": "code",
   "execution_count": 2,
   "metadata": {},
   "outputs": [
    {
     "name": "stderr",
     "output_type": "stream",
     "text": [
      "/Library/Frameworks/Python.framework/Versions/3.5/lib/python3.5/site-packages/IPython/core/interactiveshell.py:2683: DtypeWarning: Columns (47) have mixed types. Specify dtype option on import or set low_memory=False.\n",
      "  interactivity=interactivity, compiler=compiler, result=result)\n"
     ]
    },
    {
     "data": {
      "text/html": [
       "<div>\n",
       "<style>\n",
       "    .dataframe thead tr:only-child th {\n",
       "        text-align: right;\n",
       "    }\n",
       "\n",
       "    .dataframe thead th {\n",
       "        text-align: left;\n",
       "    }\n",
       "\n",
       "    .dataframe tbody tr th {\n",
       "        vertical-align: top;\n",
       "    }\n",
       "</style>\n",
       "<table border=\"1\" class=\"dataframe\">\n",
       "  <thead>\n",
       "    <tr style=\"text-align: right;\">\n",
       "      <th></th>\n",
       "      <th>SSL_SCORE</th>\n",
       "      <th>PREDICTOR_RAT_AGE_AT_LATEST_ARREST</th>\n",
       "      <th>PREDICTOR_RAT_VICTIM_SHOOTING_INCIDENTS</th>\n",
       "      <th>PREDICTOR_RAT_VICTIM_BATTERY_OR_ASSAULT</th>\n",
       "      <th>PREDICTOR_RAT_ARRESTS_VIOLENT_OFFENSES</th>\n",
       "      <th>PREDICTOR_RAT_GANG_AFFILIATION</th>\n",
       "      <th>PREDICTOR_RAT_NARCOTIC_ARRESTS</th>\n",
       "      <th>PREDICTOR_RAT_TREND_IN_CRIMINAL_ACTIVITY</th>\n",
       "      <th>PREDICTOR_RAT_UUW_ARRESTS</th>\n",
       "      <th>SEX_CODE_CD</th>\n",
       "      <th>...</th>\n",
       "      <th>RAW_HEAT_SCORE</th>\n",
       "      <th>STATUS_I</th>\n",
       "      <th>PRE_RAW_HEAT_SCORE</th>\n",
       "      <th>TRAP_FLAGS</th>\n",
       "      <th>SSL_FLAGS</th>\n",
       "      <th>LATITUDE</th>\n",
       "      <th>LONGITUDE</th>\n",
       "      <th>CENSUS_TRACT</th>\n",
       "      <th>COMMUNITY_AREA</th>\n",
       "      <th>LOCATION</th>\n",
       "    </tr>\n",
       "  </thead>\n",
       "  <tbody>\n",
       "    <tr>\n",
       "      <th>0</th>\n",
       "      <td>500</td>\n",
       "      <td>20-30</td>\n",
       "      <td>0</td>\n",
       "      <td>1</td>\n",
       "      <td>4</td>\n",
       "      <td>1</td>\n",
       "      <td>1</td>\n",
       "      <td>1.0</td>\n",
       "      <td>1</td>\n",
       "      <td>M</td>\n",
       "      <td>...</td>\n",
       "      <td>0.14196</td>\n",
       "      <td>Y</td>\n",
       "      <td>14196</td>\n",
       "      <td>NaN</td>\n",
       "      <td>24.0</td>\n",
       "      <td>NaN</td>\n",
       "      <td>NaN</td>\n",
       "      <td>NaN</td>\n",
       "      <td></td>\n",
       "      <td>NaN</td>\n",
       "    </tr>\n",
       "    <tr>\n",
       "      <th>1</th>\n",
       "      <td>500</td>\n",
       "      <td>20-30</td>\n",
       "      <td>0</td>\n",
       "      <td>9</td>\n",
       "      <td>1</td>\n",
       "      <td>1</td>\n",
       "      <td>0</td>\n",
       "      <td>1.0</td>\n",
       "      <td>0</td>\n",
       "      <td>M</td>\n",
       "      <td>...</td>\n",
       "      <td>0.14511</td>\n",
       "      <td>Y</td>\n",
       "      <td>14511</td>\n",
       "      <td>NaN</td>\n",
       "      <td>8.0</td>\n",
       "      <td>NaN</td>\n",
       "      <td>NaN</td>\n",
       "      <td>NaN</td>\n",
       "      <td></td>\n",
       "      <td>NaN</td>\n",
       "    </tr>\n",
       "    <tr>\n",
       "      <th>2</th>\n",
       "      <td>500</td>\n",
       "      <td>less than 20</td>\n",
       "      <td>1</td>\n",
       "      <td>2</td>\n",
       "      <td>1</td>\n",
       "      <td>1</td>\n",
       "      <td>3</td>\n",
       "      <td>1.0</td>\n",
       "      <td>0</td>\n",
       "      <td>M</td>\n",
       "      <td>...</td>\n",
       "      <td>0.12982</td>\n",
       "      <td>Y</td>\n",
       "      <td>12982</td>\n",
       "      <td>NaN</td>\n",
       "      <td>8.0</td>\n",
       "      <td>NaN</td>\n",
       "      <td>NaN</td>\n",
       "      <td>NaN</td>\n",
       "      <td></td>\n",
       "      <td>NaN</td>\n",
       "    </tr>\n",
       "    <tr>\n",
       "      <th>3</th>\n",
       "      <td>500</td>\n",
       "      <td>less than 20</td>\n",
       "      <td>1</td>\n",
       "      <td>1</td>\n",
       "      <td>4</td>\n",
       "      <td>1</td>\n",
       "      <td>0</td>\n",
       "      <td>1.6</td>\n",
       "      <td>1</td>\n",
       "      <td>M</td>\n",
       "      <td>...</td>\n",
       "      <td>0.13110</td>\n",
       "      <td>Y</td>\n",
       "      <td>13110</td>\n",
       "      <td>NaN</td>\n",
       "      <td>NaN</td>\n",
       "      <td>NaN</td>\n",
       "      <td>NaN</td>\n",
       "      <td>NaN</td>\n",
       "      <td></td>\n",
       "      <td>NaN</td>\n",
       "    </tr>\n",
       "    <tr>\n",
       "      <th>4</th>\n",
       "      <td>500</td>\n",
       "      <td>less than 20</td>\n",
       "      <td>0</td>\n",
       "      <td>0</td>\n",
       "      <td>5</td>\n",
       "      <td>0</td>\n",
       "      <td>0</td>\n",
       "      <td>1.3</td>\n",
       "      <td>3</td>\n",
       "      <td>M</td>\n",
       "      <td>...</td>\n",
       "      <td>0.12874</td>\n",
       "      <td>Y</td>\n",
       "      <td>12874</td>\n",
       "      <td>NaN</td>\n",
       "      <td>NaN</td>\n",
       "      <td>NaN</td>\n",
       "      <td>NaN</td>\n",
       "      <td>NaN</td>\n",
       "      <td></td>\n",
       "      <td>NaN</td>\n",
       "    </tr>\n",
       "  </tbody>\n",
       "</table>\n",
       "<p>5 rows × 48 columns</p>\n",
       "</div>"
      ],
      "text/plain": [
       "   SSL_SCORE PREDICTOR_RAT_AGE_AT_LATEST_ARREST  \\\n",
       "0        500                              20-30   \n",
       "1        500                              20-30   \n",
       "2        500                       less than 20   \n",
       "3        500                       less than 20   \n",
       "4        500                       less than 20   \n",
       "\n",
       "   PREDICTOR_RAT_VICTIM_SHOOTING_INCIDENTS  \\\n",
       "0                                        0   \n",
       "1                                        0   \n",
       "2                                        1   \n",
       "3                                        1   \n",
       "4                                        0   \n",
       "\n",
       "   PREDICTOR_RAT_VICTIM_BATTERY_OR_ASSAULT  \\\n",
       "0                                        1   \n",
       "1                                        9   \n",
       "2                                        2   \n",
       "3                                        1   \n",
       "4                                        0   \n",
       "\n",
       "   PREDICTOR_RAT_ARRESTS_VIOLENT_OFFENSES  PREDICTOR_RAT_GANG_AFFILIATION  \\\n",
       "0                                       4                               1   \n",
       "1                                       1                               1   \n",
       "2                                       1                               1   \n",
       "3                                       4                               1   \n",
       "4                                       5                               0   \n",
       "\n",
       "   PREDICTOR_RAT_NARCOTIC_ARRESTS  PREDICTOR_RAT_TREND_IN_CRIMINAL_ACTIVITY  \\\n",
       "0                               1                                       1.0   \n",
       "1                               0                                       1.0   \n",
       "2                               3                                       1.0   \n",
       "3                               0                                       1.6   \n",
       "4                               0                                       1.3   \n",
       "\n",
       "   PREDICTOR_RAT_UUW_ARRESTS SEX_CODE_CD    ...    RAW_HEAT_SCORE STATUS_I  \\\n",
       "0                          1           M    ...           0.14196        Y   \n",
       "1                          0           M    ...           0.14511        Y   \n",
       "2                          0           M    ...           0.12982        Y   \n",
       "3                          1           M    ...           0.13110        Y   \n",
       "4                          3           M    ...           0.12874        Y   \n",
       "\n",
       "  PRE_RAW_HEAT_SCORE TRAP_FLAGS SSL_FLAGS  LATITUDE LONGITUDE  CENSUS_TRACT  \\\n",
       "0              14196        NaN      24.0       NaN       NaN           NaN   \n",
       "1              14511        NaN       8.0       NaN       NaN           NaN   \n",
       "2              12982        NaN       8.0       NaN       NaN           NaN   \n",
       "3              13110        NaN       NaN       NaN       NaN           NaN   \n",
       "4              12874        NaN       NaN       NaN       NaN           NaN   \n",
       "\n",
       "   COMMUNITY_AREA  LOCATION  \n",
       "0                       NaN  \n",
       "1                       NaN  \n",
       "2                       NaN  \n",
       "3                       NaN  \n",
       "4                       NaN  \n",
       "\n",
       "[5 rows x 48 columns]"
      ]
     },
     "execution_count": 2,
     "metadata": {},
     "output_type": "execute_result"
    }
   ],
   "source": [
    "ssl_df = pd.read_csv('data/Strategic_Subject_List.csv')\n",
    "ssl_df.head()"
   ]
  },
  {
   "cell_type": "code",
   "execution_count": 3,
   "metadata": {},
   "outputs": [
    {
     "data": {
      "text/plain": [
       "<matplotlib.axes._subplots.AxesSubplot at 0x1098da8d0>"
      ]
     },
     "execution_count": 3,
     "metadata": {},
     "output_type": "execute_result"
    },
    {
     "data": {
      "image/png": "[encoded data removed]",
      "text/plain": [
       "<matplotlib.figure.Figure at 0x109a0bf98>"
      ]
     },
     "metadata": {},
     "output_type": "display_data"
    }
   ],
   "source": [
    "victim_violence_df = ssl_df.loc[(ssl_df['PREDICTOR_RAT_VICTIM_SHOOTING_INCIDENTS'] > 0) |\n",
    "                                (ssl_df['PREDICTOR_RAT_VICTIM_BATTERY_OR_ASSAULT'] > 0)].copy()\n",
    "victim_age_grp = victim_violence_df.groupby('AGE_GROUP')['SSL_SCORE'].count()\n",
    "victim_age_grp.sort_values(ascending=False, inplace=True)\n",
    "victim_age_grp.plot(kind='bar')"
   ]
  },
  {
   "cell_type": "code",
   "execution_count": 4,
   "metadata": {},
   "outputs": [
    {
     "data": {
      "text/plain": [
       "<matplotlib.axes._subplots.AxesSubplot at 0x109aaea20>"
      ]
     },
     "execution_count": 4,
     "metadata": {},
     "output_type": "execute_result"
    },
    {
     "data": {
      "image/png": "[encoded data removed]",
      "text/plain": [
       "<matplotlib.figure.Figure at 0x109ac56d8>"
      ]
     },
     "metadata": {},
     "output_type": "display_data"
    }
   ],
   "source": [
    "arr_violence_df = ssl_df.loc[(ssl_df['PREDICTOR_RAT_ARRESTS_VIOLENT_OFFENSES'] > 0) | \n",
    "                             (ssl_df['PREDICTOR_RAT_NARCOTIC_ARRESTS'] > 0) | \n",
    "                             (ssl_df['PREDICTOR_RAT_UUW_ARRESTS'] > 0)].copy()\n",
    "violence_age_grp = arr_violence_df.groupby('AGE_GROUP')['SSL_SCORE'].count()\n",
    "violence_age_grp.sort_values(ascending=False, inplace=True)\n",
    "violence_age_grp.plot(kind='bar')"
   ]
  },
  {
   "cell_type": "code",
   "execution_count": 5,
   "metadata": {},
   "outputs": [
    {
     "data": {
      "text/plain": [
       "<matplotlib.axes._subplots.AxesSubplot at 0x109b3bb38>"
      ]
     },
     "execution_count": 5,
     "metadata": {},
     "output_type": "execute_result"
    },
    {
     "data": {
      "image/png": "[encoded data removed]",
      "text/plain": [
       "<matplotlib.figure.Figure at 0x109a0b630>"
      ]
     },
     "metadata": {},
     "output_type": "display_data"
    }
   ],
   "source": [
    "ssl_age_grp = ssl_df.groupby('AGE_GROUP')['SSL_SCORE'].count()\n",
    "ssl_age_grp.sort_values(ascending=False, inplace=True)\n",
    "ssl_age_grp.plot(kind='bar')"
   ]
  },
  {
   "cell_type": "code",
   "execution_count": null,
   "metadata": {
    "collapsed": true
   },
   "outputs": [],
   "source": []
  }
 ],
 "metadata": {
  "kernelspec": {
   "display_name": "Python 3",
   "language": "python",
   "name": "python3"
  },
  "language_info": {
   "codemirror_mode": {
    "name": "ipython",
    "version": 3
   },
   "file_extension": ".py",
   "mimetype": "text/x-python",
   "name": "python",
   "nbconvert_exporter": "python",
   "pygments_lexer": "ipython3",
   "version": "3.5.2"
  }
 },
 "nbformat": 4,
 "nbformat_minor": 2
}
