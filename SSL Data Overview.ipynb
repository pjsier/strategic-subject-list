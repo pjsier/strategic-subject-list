{
 "cells": [
  {
   "cell_type": "code",
   "execution_count": 1,
   "metadata": {
    "collapsed": true
   },
   "outputs": [],
   "source": [
    "import numpy as np\n",
    "import pandas as pd\n",
    "import matplotlib.pyplot as plt\n",
    "import seaborn as sns\n",
    "%matplotlib inline"
   ]
  },
  {
   "cell_type": "markdown",
   "metadata": {},
   "source": [
    "# SSL Data Overview\n",
    "\n",
    "The Chicago Police Department's Strategic Subject List (SSL) was created to assign individual's a score that identifies how likely they are to be a \"party to violence\" with a score ranging from 1 to 500. This score attempts to predict not only the perpetrators, but also potential victims of violent crimes. \n",
    "\n",
    "This information [released on the Chicago city data portal](https://data.cityofchicago.org/Public-Safety/Strategic-Subject-List/4aki-r3np) is the output of the SSL algorithm, as well as the inputs and some contextual information, run on all individuals arrested by CPD from August 1, 2012 through July 31, 2016.\n",
    "\n",
    "The creators have stated that no potentially discriminatory variables are included in the analysis [source: New York Times article, May 23, 2016](https://www.nytimes.com/2016/05/24/us/armed-with-data-chicago-police-try-to-predict-who-may-shoot-or-be-shot.html), and the algorithm has gone through at least 5 versions, with the 5th being in use as recently as August of 2016 [source: CPD press release, August 17, 2016](http://4abpn833c0nr1zvwp7447f2b.wpengine.netdna-cdn.com/wp-content/uploads/2016/08/RAND_Response-1.pdf). \n",
    "\n",
    "The eight variables being used to generate scores on arrest information in this version are (in no particular order):\n",
    "\n",
    "* Age at Latest Arrest: Likely an actual age in the real data, but grouped into ranges from \"Less than 20\" to \"70-80\" here\n",
    "* Number of Times a Victim of a Shooting: Integer count of instances\n",
    "* Number of Times a Victim of Aggravated Battery or Assault: Integer count of instances\n",
    "* Number of Times Arrested for Violent Offenses: Integer count of instances\n",
    "* Number of Times Arrested for a Narcotics Offense: Integer count of instances\n",
    "* Number of Times Arrested for Unlawful Use of Weapons: Integer count of instances\n",
    "* Indicator if the Individual is Confirmed to be a Member of a Criminal Street Gang: Boolean yes/no represented as 0 and 1\n",
    "* Trend of Individual's Recent Criminal Activity: Floating point number ranging from ~-8.2 to ~7.3. The least clear of the variables on how it's actually generated, but appears to be pulling from arrests and interactions not related to the mentioned categories.\n",
    "\n",
    "When model changes took place, and what the variables previously were is not clear, though the New York Times article above says 10 variables were used at the time it was published (May 23, 2016). Regarding the specific variables, the creator of the model, Dr. Miles Wernick, is described as feeling that \"the model intentionally avoided using variables that could discriminate in some way, like race, gender, ethnicity and geography.\" \n",
    "\n",
    "However, a CPD press release issued on February 29, 2016 about a gang enforcement raid refers to the SSL and states \"the score is based upon previous contact with police, known affiliations with gang members, and geographic location.\" ([source](http://home.chicagopolice.org/wp-content/uploads/2016/02/29-FEB-16-CPD-RELEASE-Gang-Enforcement-Missions.pdf)) Whether the model did incorporate geographic location at that time is unclear."
   ]
  },
  {
   "cell_type": "code",
   "execution_count": 2,
   "metadata": {
    "collapsed": false
   },
   "outputs": [
    {
     "name": "stderr",
     "output_type": "stream",
     "text": [
      "/Library/Frameworks/Python.framework/Versions/3.5/lib/python3.5/site-packages/IPython/core/interactiveshell.py:2717: DtypeWarning: Columns (47) have mixed types. Specify dtype option on import or set low_memory=False.\n",
      "  interactivity=interactivity, compiler=compiler, result=result)\n"
     ]
    },
    {
     "name": "stdout",
     "output_type": "stream",
     "text": [
      "<class 'pandas.core.frame.DataFrame'>\n",
      "RangeIndex: 398684 entries, 0 to 398683\n",
      "Data columns (total 48 columns):\n",
      "SSL_SCORE                                   398684 non-null int64\n",
      "PREDICTOR_RAT_AGE_AT_LATEST_ARREST          398582 non-null object\n",
      "PREDICTOR_RAT_VICTIM_SHOOTING_INCIDENTS     398684 non-null int64\n",
      "PREDICTOR_RAT_VICTIM_BATTERY_OR_ASSAULT     398684 non-null int64\n",
      "PREDICTOR_RAT_ARRESTS_VIOLENT_OFFENSES      398684 non-null int64\n",
      "PREDICTOR_RAT_GANG_AFFILIATION              398684 non-null int64\n",
      "PREDICTOR_RAT_NARCOTIC_ARRESTS              398684 non-null int64\n",
      "PREDICTOR_RAT_TREND_IN_CRIMINAL_ACTIVITY    398684 non-null float64\n",
      "PREDICTOR_RAT_UUW_ARRESTS                   398684 non-null int64\n",
      "SEX_CODE_CD                                 398684 non-null object\n",
      "RACE_CODE_CD                                398684 non-null object\n",
      "WEAPON_I                                    398684 non-null object\n",
      "DRUG_I                                      398684 non-null object\n",
      "AGE_GROUP                                   398531 non-null object\n",
      "AGE_TO                                      398531 non-null object\n",
      "STOP_ORDER_NO                               1657 non-null float64\n",
      "PAROLEE_I                                   13084 non-null object\n",
      "LATEST_DATE                                 398684 non-null int64\n",
      "LATEST_DIST                                 398684 non-null int64\n",
      "MAJORITY_DIST                               252670 non-null float64\n",
      "DLST                                        58960 non-null object\n",
      "LATEST_DIST_RES                             398684 non-null int64\n",
      "WEAPONS_ARR_CNT                             19147 non-null float64\n",
      "LATEST_WEAPON_ARR_DATE                      19147 non-null float64\n",
      "NARCOTICS_ARR_CNT                           92807 non-null float64\n",
      "LATEST_NARCOTIC_ARR_DATE                    92807 non-null float64\n",
      "IDOC_RES_CITY                               58943 non-null object\n",
      "IDOC_RES_STATE_CODE                         58945 non-null object\n",
      "IDOC_RES_ZIP_CODE                           58267 non-null float64\n",
      "IDOC_CPD_DIST                               11222 non-null float64\n",
      "CPD_ARREST_I                                398684 non-null object\n",
      "DOMESTIC_ARR_CNT                            68126 non-null float64\n",
      "LATEST_DOMESTIC_ARR_DATE                    68126 non-null float64\n",
      "AGE_CURR                                    398443 non-null object\n",
      "SSL_LAST_PTV_DATE                           14194 non-null float64\n",
      "TRAP_STATUS                                 3118 non-null float64\n",
      "RAW_SSL_SCORE                               398684 non-null float64\n",
      "HEAT_SCORE                                  398684 non-null int64\n",
      "RAW_HEAT_SCORE                              398684 non-null float64\n",
      "STATUS_I                                    398684 non-null object\n",
      "PRE_RAW_HEAT_SCORE                          398684 non-null int64\n",
      "TRAP_FLAGS                                  105 non-null float64\n",
      "SSL_FLAGS                                   448 non-null float64\n",
      "LATITUDE                                    224235 non-null float64\n",
      "LONGITUDE                                   224235 non-null float64\n",
      "CENSUS_TRACT                                227763 non-null float64\n",
      "COMMUNITY_AREA                              398684 non-null object\n",
      "LOCATION                                    224235 non-null object\n",
      "dtypes: float64(20), int64(12), object(16)\n",
      "memory usage: 146.0+ MB\n"
     ]
    }
   ],
   "source": [
    "ssl_df = pd.read_csv('data/Strategic_Subject_List.csv')\n",
    "ssl_df.info(verbose=True)"
   ]
  },
  {
   "cell_type": "code",
   "execution_count": 3,
   "metadata": {
    "collapsed": false
   },
   "outputs": [
    {
     "data": {
      "text/html": [
       "<div>\n",
       "<table border=\"1\" class=\"dataframe\">\n",
       "  <thead>\n",
       "    <tr style=\"text-align: right;\">\n",
       "      <th></th>\n",
       "      <th>SSL_SCORE</th>\n",
       "      <th>PREDICTOR_RAT_AGE_AT_LATEST_ARREST</th>\n",
       "      <th>PREDICTOR_RAT_VICTIM_SHOOTING_INCIDENTS</th>\n",
       "      <th>PREDICTOR_RAT_VICTIM_BATTERY_OR_ASSAULT</th>\n",
       "      <th>PREDICTOR_RAT_ARRESTS_VIOLENT_OFFENSES</th>\n",
       "      <th>PREDICTOR_RAT_GANG_AFFILIATION</th>\n",
       "      <th>PREDICTOR_RAT_NARCOTIC_ARRESTS</th>\n",
       "      <th>PREDICTOR_RAT_TREND_IN_CRIMINAL_ACTIVITY</th>\n",
       "      <th>PREDICTOR_RAT_UUW_ARRESTS</th>\n",
       "      <th>SEX_CODE_CD</th>\n",
       "      <th>...</th>\n",
       "      <th>RAW_HEAT_SCORE</th>\n",
       "      <th>STATUS_I</th>\n",
       "      <th>PRE_RAW_HEAT_SCORE</th>\n",
       "      <th>TRAP_FLAGS</th>\n",
       "      <th>SSL_FLAGS</th>\n",
       "      <th>LATITUDE</th>\n",
       "      <th>LONGITUDE</th>\n",
       "      <th>CENSUS_TRACT</th>\n",
       "      <th>COMMUNITY_AREA</th>\n",
       "      <th>LOCATION</th>\n",
       "    </tr>\n",
       "  </thead>\n",
       "  <tbody>\n",
       "    <tr>\n",
       "      <th>0</th>\n",
       "      <td>500</td>\n",
       "      <td>20-30</td>\n",
       "      <td>0</td>\n",
       "      <td>1</td>\n",
       "      <td>4</td>\n",
       "      <td>1</td>\n",
       "      <td>1</td>\n",
       "      <td>1.0</td>\n",
       "      <td>1</td>\n",
       "      <td>M</td>\n",
       "      <td>...</td>\n",
       "      <td>0.14196</td>\n",
       "      <td>Y</td>\n",
       "      <td>14196</td>\n",
       "      <td>NaN</td>\n",
       "      <td>24.0</td>\n",
       "      <td>NaN</td>\n",
       "      <td>NaN</td>\n",
       "      <td>NaN</td>\n",
       "      <td></td>\n",
       "      <td>NaN</td>\n",
       "    </tr>\n",
       "    <tr>\n",
       "      <th>1</th>\n",
       "      <td>500</td>\n",
       "      <td>20-30</td>\n",
       "      <td>0</td>\n",
       "      <td>9</td>\n",
       "      <td>1</td>\n",
       "      <td>1</td>\n",
       "      <td>0</td>\n",
       "      <td>1.0</td>\n",
       "      <td>0</td>\n",
       "      <td>M</td>\n",
       "      <td>...</td>\n",
       "      <td>0.14511</td>\n",
       "      <td>Y</td>\n",
       "      <td>14511</td>\n",
       "      <td>NaN</td>\n",
       "      <td>8.0</td>\n",
       "      <td>NaN</td>\n",
       "      <td>NaN</td>\n",
       "      <td>NaN</td>\n",
       "      <td></td>\n",
       "      <td>NaN</td>\n",
       "    </tr>\n",
       "    <tr>\n",
       "      <th>2</th>\n",
       "      <td>500</td>\n",
       "      <td>less than 20</td>\n",
       "      <td>1</td>\n",
       "      <td>2</td>\n",
       "      <td>1</td>\n",
       "      <td>1</td>\n",
       "      <td>3</td>\n",
       "      <td>1.0</td>\n",
       "      <td>0</td>\n",
       "      <td>M</td>\n",
       "      <td>...</td>\n",
       "      <td>0.12982</td>\n",
       "      <td>Y</td>\n",
       "      <td>12982</td>\n",
       "      <td>NaN</td>\n",
       "      <td>8.0</td>\n",
       "      <td>NaN</td>\n",
       "      <td>NaN</td>\n",
       "      <td>NaN</td>\n",
       "      <td></td>\n",
       "      <td>NaN</td>\n",
       "    </tr>\n",
       "    <tr>\n",
       "      <th>3</th>\n",
       "      <td>500</td>\n",
       "      <td>less than 20</td>\n",
       "      <td>1</td>\n",
       "      <td>1</td>\n",
       "      <td>4</td>\n",
       "      <td>1</td>\n",
       "      <td>0</td>\n",
       "      <td>1.6</td>\n",
       "      <td>1</td>\n",
       "      <td>M</td>\n",
       "      <td>...</td>\n",
       "      <td>0.13110</td>\n",
       "      <td>Y</td>\n",
       "      <td>13110</td>\n",
       "      <td>NaN</td>\n",
       "      <td>NaN</td>\n",
       "      <td>NaN</td>\n",
       "      <td>NaN</td>\n",
       "      <td>NaN</td>\n",
       "      <td></td>\n",
       "      <td>NaN</td>\n",
       "    </tr>\n",
       "    <tr>\n",
       "      <th>4</th>\n",
       "      <td>500</td>\n",
       "      <td>less than 20</td>\n",
       "      <td>0</td>\n",
       "      <td>0</td>\n",
       "      <td>5</td>\n",
       "      <td>0</td>\n",
       "      <td>0</td>\n",
       "      <td>1.3</td>\n",
       "      <td>3</td>\n",
       "      <td>M</td>\n",
       "      <td>...</td>\n",
       "      <td>0.12874</td>\n",
       "      <td>Y</td>\n",
       "      <td>12874</td>\n",
       "      <td>NaN</td>\n",
       "      <td>NaN</td>\n",
       "      <td>NaN</td>\n",
       "      <td>NaN</td>\n",
       "      <td>NaN</td>\n",
       "      <td></td>\n",
       "      <td>NaN</td>\n",
       "    </tr>\n",
       "  </tbody>\n",
       "</table>\n",
       "<p>5 rows × 48 columns</p>\n",
       "</div>"
      ],
      "text/plain": [
       "   SSL_SCORE PREDICTOR_RAT_AGE_AT_LATEST_ARREST  \\\n",
       "0        500                              20-30   \n",
       "1        500                              20-30   \n",
       "2        500                       less than 20   \n",
       "3        500                       less than 20   \n",
       "4        500                       less than 20   \n",
       "\n",
       "   PREDICTOR_RAT_VICTIM_SHOOTING_INCIDENTS  \\\n",
       "0                                        0   \n",
       "1                                        0   \n",
       "2                                        1   \n",
       "3                                        1   \n",
       "4                                        0   \n",
       "\n",
       "   PREDICTOR_RAT_VICTIM_BATTERY_OR_ASSAULT  \\\n",
       "0                                        1   \n",
       "1                                        9   \n",
       "2                                        2   \n",
       "3                                        1   \n",
       "4                                        0   \n",
       "\n",
       "   PREDICTOR_RAT_ARRESTS_VIOLENT_OFFENSES  PREDICTOR_RAT_GANG_AFFILIATION  \\\n",
       "0                                       4                               1   \n",
       "1                                       1                               1   \n",
       "2                                       1                               1   \n",
       "3                                       4                               1   \n",
       "4                                       5                               0   \n",
       "\n",
       "   PREDICTOR_RAT_NARCOTIC_ARRESTS  PREDICTOR_RAT_TREND_IN_CRIMINAL_ACTIVITY  \\\n",
       "0                               1                                       1.0   \n",
       "1                               0                                       1.0   \n",
       "2                               3                                       1.0   \n",
       "3                               0                                       1.6   \n",
       "4                               0                                       1.3   \n",
       "\n",
       "   PREDICTOR_RAT_UUW_ARRESTS SEX_CODE_CD    ...    RAW_HEAT_SCORE STATUS_I  \\\n",
       "0                          1           M    ...           0.14196        Y   \n",
       "1                          0           M    ...           0.14511        Y   \n",
       "2                          0           M    ...           0.12982        Y   \n",
       "3                          1           M    ...           0.13110        Y   \n",
       "4                          3           M    ...           0.12874        Y   \n",
       "\n",
       "  PRE_RAW_HEAT_SCORE TRAP_FLAGS SSL_FLAGS  LATITUDE LONGITUDE  CENSUS_TRACT  \\\n",
       "0              14196        NaN      24.0       NaN       NaN           NaN   \n",
       "1              14511        NaN       8.0       NaN       NaN           NaN   \n",
       "2              12982        NaN       8.0       NaN       NaN           NaN   \n",
       "3              13110        NaN       NaN       NaN       NaN           NaN   \n",
       "4              12874        NaN       NaN       NaN       NaN           NaN   \n",
       "\n",
       "   COMMUNITY_AREA  LOCATION  \n",
       "0                       NaN  \n",
       "1                       NaN  \n",
       "2                       NaN  \n",
       "3                       NaN  \n",
       "4                       NaN  \n",
       "\n",
       "[5 rows x 48 columns]"
      ]
     },
     "execution_count": 3,
     "metadata": {},
     "output_type": "execute_result"
    }
   ],
   "source": [
    "ssl_df.head()"
   ]
  },
  {
   "cell_type": "code",
   "execution_count": 4,
   "metadata": {
    "collapsed": false
   },
   "outputs": [
    {
     "data": {
      "text/html": [
       "<div>\n",
       "<table border=\"1\" class=\"dataframe\">\n",
       "  <thead>\n",
       "    <tr style=\"text-align: right;\">\n",
       "      <th></th>\n",
       "      <th>SSL_SCORE</th>\n",
       "      <th>PREDICTOR_RAT_VICTIM_SHOOTING_INCIDENTS</th>\n",
       "      <th>PREDICTOR_RAT_VICTIM_BATTERY_OR_ASSAULT</th>\n",
       "      <th>PREDICTOR_RAT_ARRESTS_VIOLENT_OFFENSES</th>\n",
       "      <th>PREDICTOR_RAT_GANG_AFFILIATION</th>\n",
       "      <th>PREDICTOR_RAT_NARCOTIC_ARRESTS</th>\n",
       "      <th>PREDICTOR_RAT_TREND_IN_CRIMINAL_ACTIVITY</th>\n",
       "      <th>PREDICTOR_RAT_UUW_ARRESTS</th>\n",
       "    </tr>\n",
       "  </thead>\n",
       "  <tbody>\n",
       "    <tr>\n",
       "      <th>count</th>\n",
       "      <td>398684.000000</td>\n",
       "      <td>398684.000000</td>\n",
       "      <td>398684.000000</td>\n",
       "      <td>398684.000000</td>\n",
       "      <td>398684.000000</td>\n",
       "      <td>398684.000000</td>\n",
       "      <td>398684.000000</td>\n",
       "      <td>398684.000000</td>\n",
       "    </tr>\n",
       "    <tr>\n",
       "      <th>mean</th>\n",
       "      <td>279.839743</td>\n",
       "      <td>0.020227</td>\n",
       "      <td>0.035916</td>\n",
       "      <td>0.114988</td>\n",
       "      <td>0.162903</td>\n",
       "      <td>0.335752</td>\n",
       "      <td>-0.049534</td>\n",
       "      <td>0.033297</td>\n",
       "    </tr>\n",
       "    <tr>\n",
       "      <th>std</th>\n",
       "      <td>57.996284</td>\n",
       "      <td>0.152919</td>\n",
       "      <td>0.210601</td>\n",
       "      <td>0.405583</td>\n",
       "      <td>0.369278</td>\n",
       "      <td>0.837828</td>\n",
       "      <td>0.404900</td>\n",
       "      <td>0.193237</td>\n",
       "    </tr>\n",
       "    <tr>\n",
       "      <th>min</th>\n",
       "      <td>10.000000</td>\n",
       "      <td>0.000000</td>\n",
       "      <td>0.000000</td>\n",
       "      <td>0.000000</td>\n",
       "      <td>0.000000</td>\n",
       "      <td>0.000000</td>\n",
       "      <td>-8.200000</td>\n",
       "      <td>0.000000</td>\n",
       "    </tr>\n",
       "    <tr>\n",
       "      <th>25%</th>\n",
       "      <td>242.000000</td>\n",
       "      <td>0.000000</td>\n",
       "      <td>0.000000</td>\n",
       "      <td>0.000000</td>\n",
       "      <td>0.000000</td>\n",
       "      <td>0.000000</td>\n",
       "      <td>-0.300000</td>\n",
       "      <td>0.000000</td>\n",
       "    </tr>\n",
       "    <tr>\n",
       "      <th>50%</th>\n",
       "      <td>289.000000</td>\n",
       "      <td>0.000000</td>\n",
       "      <td>0.000000</td>\n",
       "      <td>0.000000</td>\n",
       "      <td>0.000000</td>\n",
       "      <td>0.000000</td>\n",
       "      <td>-0.100000</td>\n",
       "      <td>0.000000</td>\n",
       "    </tr>\n",
       "    <tr>\n",
       "      <th>75%</th>\n",
       "      <td>322.000000</td>\n",
       "      <td>0.000000</td>\n",
       "      <td>0.000000</td>\n",
       "      <td>0.000000</td>\n",
       "      <td>0.000000</td>\n",
       "      <td>0.000000</td>\n",
       "      <td>0.200000</td>\n",
       "      <td>0.000000</td>\n",
       "    </tr>\n",
       "    <tr>\n",
       "      <th>max</th>\n",
       "      <td>500.000000</td>\n",
       "      <td>4.000000</td>\n",
       "      <td>10.000000</td>\n",
       "      <td>12.000000</td>\n",
       "      <td>1.000000</td>\n",
       "      <td>29.000000</td>\n",
       "      <td>7.300000</td>\n",
       "      <td>4.000000</td>\n",
       "    </tr>\n",
       "  </tbody>\n",
       "</table>\n",
       "</div>"
      ],
      "text/plain": [
       "           SSL_SCORE  PREDICTOR_RAT_VICTIM_SHOOTING_INCIDENTS  \\\n",
       "count  398684.000000                            398684.000000   \n",
       "mean      279.839743                                 0.020227   \n",
       "std        57.996284                                 0.152919   \n",
       "min        10.000000                                 0.000000   \n",
       "25%       242.000000                                 0.000000   \n",
       "50%       289.000000                                 0.000000   \n",
       "75%       322.000000                                 0.000000   \n",
       "max       500.000000                                 4.000000   \n",
       "\n",
       "       PREDICTOR_RAT_VICTIM_BATTERY_OR_ASSAULT  \\\n",
       "count                            398684.000000   \n",
       "mean                                  0.035916   \n",
       "std                                   0.210601   \n",
       "min                                   0.000000   \n",
       "25%                                   0.000000   \n",
       "50%                                   0.000000   \n",
       "75%                                   0.000000   \n",
       "max                                  10.000000   \n",
       "\n",
       "       PREDICTOR_RAT_ARRESTS_VIOLENT_OFFENSES  PREDICTOR_RAT_GANG_AFFILIATION  \\\n",
       "count                           398684.000000                   398684.000000   \n",
       "mean                                 0.114988                        0.162903   \n",
       "std                                  0.405583                        0.369278   \n",
       "min                                  0.000000                        0.000000   \n",
       "25%                                  0.000000                        0.000000   \n",
       "50%                                  0.000000                        0.000000   \n",
       "75%                                  0.000000                        0.000000   \n",
       "max                                 12.000000                        1.000000   \n",
       "\n",
       "       PREDICTOR_RAT_NARCOTIC_ARRESTS  \\\n",
       "count                   398684.000000   \n",
       "mean                         0.335752   \n",
       "std                          0.837828   \n",
       "min                          0.000000   \n",
       "25%                          0.000000   \n",
       "50%                          0.000000   \n",
       "75%                          0.000000   \n",
       "max                         29.000000   \n",
       "\n",
       "       PREDICTOR_RAT_TREND_IN_CRIMINAL_ACTIVITY  PREDICTOR_RAT_UUW_ARRESTS  \n",
       "count                             398684.000000              398684.000000  \n",
       "mean                                  -0.049534                   0.033297  \n",
       "std                                    0.404900                   0.193237  \n",
       "min                                   -8.200000                   0.000000  \n",
       "25%                                   -0.300000                   0.000000  \n",
       "50%                                   -0.100000                   0.000000  \n",
       "75%                                    0.200000                   0.000000  \n",
       "max                                    7.300000                   4.000000  "
      ]
     },
     "execution_count": 4,
     "metadata": {},
     "output_type": "execute_result"
    }
   ],
   "source": [
    "# Basic summary statistics on the SSL score and input variables \n",
    "ssl_df[['SSL_SCORE', 'PREDICTOR_RAT_AGE_AT_LATEST_ARREST', 'PREDICTOR_RAT_VICTIM_SHOOTING_INCIDENTS',\n",
    "        'PREDICTOR_RAT_VICTIM_BATTERY_OR_ASSAULT', 'PREDICTOR_RAT_ARRESTS_VIOLENT_OFFENSES',\n",
    "        'PREDICTOR_RAT_GANG_AFFILIATION', 'PREDICTOR_RAT_NARCOTIC_ARRESTS', 'PREDICTOR_RAT_TREND_IN_CRIMINAL_ACTIVITY',\n",
    "        'PREDICTOR_RAT_UUW_ARRESTS']].describe()"
   ]
  },
  {
   "cell_type": "markdown",
   "metadata": {},
   "source": [
    "### Number of Individuals Included in Arrest Data\n",
    "\n",
    "In total, there are 398,684 individuals in the arrest information processed by the SSL model. Even though this is more than just those \"on the list\", almost any way of subdividing it appears drastically different from the numbers that have previously been cited on the size of the list, including  [30,000 in a Chicago Sun-Times on September 4, 2015](http://chicago.suntimes.com/news/four-of-eight-men-slain-wednesday-on-police-at-risk-list/), [1,500 in a CBS Local story on May 31, 2016](http://chicago.cbslocal.com/2016/05/31/going-inside-the-chicago-police-departments-strategic-subject-list/), and [1,400 in a Chicago Tribune story on July 22, 2016](http://www.chicagotribune.com/news/ct-chicago-police-violence-strategy-met-20160722-story.html). \n",
    "\n",
    "The reason for the discrepancy seems to be that the department has a number of individuals who are focused on which is a subset of the overall list, with the July 2016 Tribune article saying \"The department has not said how many people in total are on its strategic subject list, but it said it is focusing on the 1,400 people on the list whose overall scores are between about 400 to more than 500.\" The counts of individuals overall and counts above certain thresholds are below."
   ]
  },
  {
   "cell_type": "code",
   "execution_count": 5,
   "metadata": {
    "collapsed": false
   },
   "outputs": [
    {
     "name": "stdout",
     "output_type": "stream",
     "text": [
      "398,684 total individuals on SSL\n",
      "397,917 individuals with scores >= 100\n",
      "391,046 individuals with scores >= 150\n",
      "354,994 individuals with scores >= 200\n",
      "287,404 individuals with scores >= 250\n",
      "173,001 individuals with scores >= 300\n",
      "29,212 individuals with scores >= 350\n",
      "3,721 individuals with scores >= 400\n",
      "709 individuals with scores >= 450\n"
     ]
    }
   ],
   "source": [
    "print('{:,} total individuals on SSL'.format(ssl_df['SSL_SCORE'].count()))\n",
    "\n",
    "score_counts = [100, 150, 200, 250, 300, 350, 400, 450]\n",
    "for score in score_counts:\n",
    "    print('{:,} individuals with scores >= {}'.format(ssl_df.loc[ssl_df['SSL_SCORE'] >= score, 'SSL_SCORE'].count(), score))"
   ]
  },
  {
   "cell_type": "code",
   "execution_count": 6,
   "metadata": {
    "collapsed": false
   },
   "outputs": [
    {
     "data": {
      "text/plain": [
       "array([[<matplotlib.axes._subplots.AxesSubplot object at 0x1098f61d0>]], dtype=object)"
      ]
     },
     "execution_count": 6,
     "metadata": {},
     "output_type": "execute_result"
    },
    {
     "data": {
      "image/png": "[encoded data removed]",
      "text/plain": [
       "<matplotlib.figure.Figure at 0x1098ee860>"
      ]
     },
     "metadata": {},
     "output_type": "display_data"
    }
   ],
   "source": [
    "plt.rcParams[\"figure.figsize\"] = [15, 5]\n",
    "\n",
    "ssl_df.hist('SSL_SCORE')"
   ]
  },
  {
   "cell_type": "markdown",
   "metadata": {},
   "source": [
    "## Subdividing by Cutoffs\n",
    "\n",
    "Because multiple articles have described cutoff scores for inclusion on the SSL, it seems relevant to take a look at trends inside of those cutoffs. The most commonly cited ones are scores in the \"upper 200s\", scores above 400, and scores in the \"upper 400s\". In this case, three groups make sense, with all individuals with scores greater than or equal to 250, 400, and 450."
   ]
  },
  {
   "cell_type": "code",
   "execution_count": 7,
   "metadata": {
    "collapsed": true
   },
   "outputs": [],
   "source": [
    "ssl_gte_250 = ssl_df.loc[ssl_df['SSL_SCORE'] >= 250].copy()\n",
    "ssl_gte_400 = ssl_df.loc[ssl_df['SSL_SCORE'] >= 400].copy()\n",
    "ssl_gte_450 = ssl_df.loc[ssl_df['SSL_SCORE'] >= 450].copy()"
   ]
  },
  {
   "cell_type": "markdown",
   "metadata": {},
   "source": [
    "### Input Variable Details\n",
    "\n",
    "Out of all the input variables, \"PREDICTOR_RAT_TREND_IN_CRIMINAL_ACTIVITY\" is the least transparent. While most individuals with SSL scores at or over 400 have positive values in some of the clear predictor variables, 60.79% of those with SSL scores at or over 250 have no incidents in any of 6 of the 8 predictor variables.\n",
    "\n",
    "Additionally, 48.98% of individuals with SSL scores over 250, are listed with zeroes or a \"N\" flag in all of the explicitly stated predictors, and also have no arrests in the past ten years in the additionally included categories of weapons, narcotics, or domestic violence\n",
    "\n",
    "These are the additional categories mentioned:\n",
    "\n",
    "* WEAPONS_ARR_CNT: Integer count of weapons (UUW) arrests in past 10 years\n",
    "* NARCOTICS_ARR_CNT: Integer count of drugs arrests in past 10 years\n",
    "* DOMESTIC_ARR_CNT: Integer count of domestic violence arrests in past 10 years\n",
    "\n",
    "A combination of these, and the \"LATEST_X_DATE\" for each arrest category seem to factor into creating the trend score. However, other information must be included in generating the names on the list given that a majority have no arrests in the past ten years in any of those categories."
   ]
  },
  {
   "cell_type": "code",
   "execution_count": 8,
   "metadata": {
    "collapsed": false
   },
   "outputs": [
    {
     "name": "stdout",
     "output_type": "stream",
     "text": [
      "\n",
      "      174,703 of 287,404 individuals with SSL scores greater than or equal to 250, 60.79%, have zeros or no flags for the 6 predictors other than trend\n",
      "      \n",
      "\n",
      "      81 of 3,721 individuals with SSL scores greater than or equal to 400, 2.18%, have zeros or no flags for the 6 predictors other than trend\n",
      "      \n",
      "\n",
      "      14 of 709 individuals with SSL scores greater than or equal to 450, 1.97%, have zeros or no flags for the 6 predictors other than trend\n",
      "      \n"
     ]
    }
   ],
   "source": [
    "zero_cat_arrests = ssl_df.loc[(ssl_df['PREDICTOR_RAT_VICTIM_SHOOTING_INCIDENTS'] == 0) &\n",
    "                              (ssl_df['PREDICTOR_RAT_VICTIM_BATTERY_OR_ASSAULT'] == 0) &\n",
    "                              (ssl_df['PREDICTOR_RAT_ARRESTS_VIOLENT_OFFENSES'] == 0) &\n",
    "                              (ssl_df['PREDICTOR_RAT_GANG_AFFILIATION'] == 0) &\n",
    "                              (ssl_df['PREDICTOR_RAT_NARCOTIC_ARRESTS'] == 0) &\n",
    "                              (ssl_df['PREDICTOR_RAT_UUW_ARRESTS'] == 0)].copy()\n",
    "\n",
    "for cutoff in [250, 400, 450]:\n",
    "    print('''\n",
    "      {:,} of {:,} individuals with SSL scores greater than or equal to {}, {:.2f}%, have zeros or no flags for the 6 predictors other than trend\n",
    "      '''.format(zero_cat_arrests.loc[zero_cat_arrests['SSL_SCORE'] >= cutoff, 'SSL_SCORE'].count(), \n",
    "                 ssl_df.loc[ssl_df['SSL_SCORE'] >= cutoff, 'SSL_SCORE'].count(), \n",
    "                 cutoff,\n",
    "                 (zero_cat_arrests.loc[zero_cat_arrests['SSL_SCORE'] >= cutoff, 'SSL_SCORE'].count()/ssl_df.loc[ssl_df['SSL_SCORE'] >= cutoff, 'SSL_SCORE'].count())*100)\n",
    "    )\n"
   ]
  },
  {
   "cell_type": "code",
   "execution_count": 9,
   "metadata": {
    "collapsed": false
   },
   "outputs": [
    {
     "name": "stdout",
     "output_type": "stream",
     "text": [
      "\n",
      "      140,762 of 287,404 individuals with SSL scores greater than or equal to 250, 48.98%, have no records of arrests in the past ten years for any of the stated categories\n",
      "      \n",
      "\n",
      "      79 of 3,721 individuals with SSL scores greater than or equal to 400, 2.12%, have no records of arrests in the past ten years for any of the stated categories\n",
      "      \n",
      "\n",
      "      14 of 709 individuals with SSL scores greater than or equal to 450, 1.97%, have no records of arrests in the past ten years for any of the stated categories\n",
      "      \n"
     ]
    }
   ],
   "source": [
    "total_ssl_count = ssl_df['SSL_SCORE'].count()\n",
    "zero_cat_arrests = ssl_df.loc[(ssl_df['PREDICTOR_RAT_VICTIM_SHOOTING_INCIDENTS'] == 0) &\n",
    "                              (ssl_df['PREDICTOR_RAT_VICTIM_BATTERY_OR_ASSAULT'] == 0) &\n",
    "                              (ssl_df['PREDICTOR_RAT_ARRESTS_VIOLENT_OFFENSES'] == 0) &\n",
    "                              (ssl_df['PREDICTOR_RAT_GANG_AFFILIATION'] == 0) &\n",
    "                              (ssl_df['PREDICTOR_RAT_NARCOTIC_ARRESTS'] == 0) &\n",
    "                              (ssl_df['PREDICTOR_RAT_UUW_ARRESTS'] == 0) &\n",
    "                              (ssl_df['WEAPONS_ARR_CNT'].isnull()) &\n",
    "                              (ssl_df['NARCOTICS_ARR_CNT'].isnull()) &\n",
    "                              (ssl_df['DOMESTIC_ARR_CNT'].isnull())].copy()\n",
    "\n",
    "\n",
    "for cutoff in [250, 400, 450]:\n",
    "    print('''\n",
    "      {:,} of {:,} individuals with SSL scores greater than or equal to {}, {:.2f}%, have no records of arrests in the past ten years for any of the stated categories\n",
    "      '''.format(zero_cat_arrests.loc[zero_cat_arrests['SSL_SCORE'] >= cutoff, 'SSL_SCORE'].count(), \n",
    "                 ssl_df.loc[ssl_df['SSL_SCORE'] >= cutoff, 'SSL_SCORE'].count(), \n",
    "                 cutoff,\n",
    "                 (zero_cat_arrests.loc[zero_cat_arrests['SSL_SCORE'] >= cutoff, 'SSL_SCORE'].count()/ssl_df.loc[ssl_df['SSL_SCORE'] >= cutoff, 'SSL_SCORE'].count())*100)\n",
    "    )"
   ]
  },
  {
   "cell_type": "markdown",
   "metadata": {},
   "source": [
    "### Demographic Breakdown\n",
    "\n",
    "Given that age is intentionally included in the model as an input variable, it's understandable that it results in higher scores, but more concerning is the fact that race and sex seem extremely skewed towards Black and Latino men.\n",
    "\n",
    "While the pattern is extremely apparent in scores greater than or equal to 400, it's still clear among all those with scores >= 250.\n",
    "\n",
    "**Note**: Race codes are converted using the CPD's standard race codes as found in [Investigatory Stop Report data](http://home.chicagopolice.org/isr-data/)"
   ]
  },
  {
   "cell_type": "code",
   "execution_count": 10,
   "metadata": {
    "collapsed": false
   },
   "outputs": [
    {
     "data": {
      "text/plain": [
       "<matplotlib.axes._subplots.AxesSubplot at 0x109d11f98>"
      ]
     },
     "execution_count": 10,
     "metadata": {},
     "output_type": "execute_result"
    },
    {
     "data": {
      "image/png": "[encoded data removed]",
      "text/plain": [
       "<matplotlib.figure.Figure at 0x109cb3cf8>"
      ]
     },
     "metadata": {},
     "output_type": "display_data"
    }
   ],
   "source": [
    "# Breakdown by age\n",
    "fig, axs = plt.subplots(1,3)\n",
    "\n",
    "count_by_age_250 = ssl_gte_250.groupby('AGE_GROUP')['SSL_SCORE'].count()\n",
    "count_by_age_250.sort_values(ascending=False, inplace=True)\n",
    "\n",
    "count_by_age_400 = ssl_gte_400.groupby('AGE_GROUP')['SSL_SCORE'].count()\n",
    "count_by_age_400.sort_values(ascending=False, inplace=True)\n",
    "\n",
    "count_by_age_450 = ssl_gte_450.groupby('AGE_GROUP')['SSL_SCORE'].count()\n",
    "count_by_age_450.sort_values(ascending=False, inplace=True)\n",
    "\n",
    "count_by_age_250.plot(kind='bar', ax=axs[0], title='SSL Score >= 250 by Age Group')\n",
    "count_by_age_400.plot(kind='bar', ax=axs[1], title='SSL Score >= 400 by Age Group')\n",
    "count_by_age_450.plot(kind='bar', ax=axs[2], title='SSL Score >= 450 by Age Group')"
   ]
  },
  {
   "cell_type": "code",
   "execution_count": 11,
   "metadata": {
    "collapsed": true
   },
   "outputs": [],
   "source": [
    "# Converting CPD race codes to clear meanings\n",
    "cpd_race_map = {\n",
    "    'BLK': 'BLACK',\n",
    "    'WHI': 'WHITE',\n",
    "    'API': 'ASIAN/PACIFIC ISLANDER',\n",
    "    'WBH': 'BLACK HISPANIC',\n",
    "    'WWH': 'WHITE HISPANIC',\n",
    "    'I': 'AMER IND/ALASKAN NATIVE',\n",
    "    'U': 'UKNOWN'\n",
    "}\n",
    "\n",
    "ssl_df['RACE'] = ssl_df['RACE_CODE_CD'].apply(lambda x: cpd_race_map.get(x, 'U'))\n",
    "ssl_gte_250['RACE'] = ssl_gte_250['RACE_CODE_CD'].apply(lambda x: cpd_race_map.get(x, 'U'))\n",
    "ssl_gte_400['RACE'] = ssl_gte_400['RACE_CODE_CD'].apply(lambda x: cpd_race_map.get(x, 'U'))\n",
    "ssl_gte_450['RACE'] = ssl_gte_450['RACE_CODE_CD'].apply(lambda x: cpd_race_map.get(x, 'U'))"
   ]
  },
  {
   "cell_type": "code",
   "execution_count": 12,
   "metadata": {
    "collapsed": false
   },
   "outputs": [
    {
     "data": {
      "text/plain": [
       "<matplotlib.axes._subplots.AxesSubplot at 0x10a17fdd8>"
      ]
     },
     "execution_count": 12,
     "metadata": {},
     "output_type": "execute_result"
    },
    {
     "data": {
      "image/png": "[encoded data removed]",
      "text/plain": [
       "<matplotlib.figure.Figure at 0x113ec0d30>"
      ]
     },
     "metadata": {},
     "output_type": "display_data"
    }
   ],
   "source": [
    "fig, axs = plt.subplots(1,3)\n",
    "\n",
    "count_by_race_250 = ssl_gte_250.groupby('RACE')['SSL_SCORE'].count()\n",
    "count_by_race_250.sort_values(ascending=False, inplace=True)\n",
    "\n",
    "count_by_race_400 = ssl_gte_400.groupby('RACE')['SSL_SCORE'].count()\n",
    "count_by_race_400.sort_values(ascending=False, inplace=True)\n",
    "\n",
    "count_by_race_450 = ssl_gte_450.groupby('RACE')['SSL_SCORE'].count()\n",
    "count_by_race_450.sort_values(ascending=False, inplace=True)\n",
    "\n",
    "count_by_race_250.plot(kind='bar', ax=axs[0], title='SSL Score >= 250 by Race')\n",
    "count_by_race_400.plot(kind='bar', ax=axs[1], title='SSL Score >= 400 by Race')\n",
    "count_by_race_450.plot(kind='bar', ax=axs[2], title='SSL Score >= 450 by Race')"
   ]
  },
  {
   "cell_type": "code",
   "execution_count": 13,
   "metadata": {
    "collapsed": false
   },
   "outputs": [
    {
     "data": {
      "text/plain": [
       "<matplotlib.axes._subplots.AxesSubplot at 0x10b21d390>"
      ]
     },
     "execution_count": 13,
     "metadata": {},
     "output_type": "execute_result"
    },
    {
     "data": {
      "image/png": "[encoded data removed]",
      "text/plain": [
       "<matplotlib.figure.Figure at 0x109f0aac8>"
      ]
     },
     "metadata": {},
     "output_type": "display_data"
    }
   ],
   "source": [
    "fig, axs = plt.subplots(1,3)\n",
    "\n",
    "count_by_sex_250 = ssl_gte_250.groupby('SEX_CODE_CD')['SSL_SCORE'].count()\n",
    "count_by_sex_250.sort_values(ascending=False, inplace=True)\n",
    "\n",
    "count_by_sex_400 = ssl_gte_400.groupby('SEX_CODE_CD')['SSL_SCORE'].count()\n",
    "count_by_sex_400.sort_values(ascending=False, inplace=True)\n",
    "\n",
    "count_by_sex_450 = ssl_gte_450.groupby('SEX_CODE_CD')['SSL_SCORE'].count()\n",
    "count_by_sex_450.sort_values(ascending=False, inplace=True)\n",
    "\n",
    "count_by_sex_250.plot(kind='bar', ax=axs[0], title='SSL Score >= 250 by Sex')\n",
    "count_by_sex_400.plot(kind='bar', ax=axs[1], title='SSL Score >= 400 by Sex')\n",
    "count_by_sex_450.plot(kind='bar', ax=axs[2], title='SSL Score >= 450 by Sex')"
   ]
  },
  {
   "cell_type": "code",
   "execution_count": 14,
   "metadata": {
    "collapsed": false
   },
   "outputs": [
    {
     "data": {
      "text/plain": [
       "<matplotlib.axes._subplots.AxesSubplot at 0x10a0db358>"
      ]
     },
     "execution_count": 14,
     "metadata": {},
     "output_type": "execute_result"
    },
    {
     "data": {
      "image/png": "[encoded data removed]",
      "text/plain": [
       "<matplotlib.figure.Figure at 0x109fbf4a8>"
      ]
     },
     "metadata": {},
     "output_type": "display_data"
    }
   ],
   "source": [
    "count_by_race_sex_250 = ssl_gte_250.groupby(['RACE', 'SEX_CODE_CD'])['SSL_SCORE'].count()\n",
    "count_by_race_sex_250.sort_values(ascending=False, inplace=True)\n",
    "count_by_race_sex_250.plot(kind='bar', title='SSL Score >= 250 by Race and Sex')"
   ]
  },
  {
   "cell_type": "code",
   "execution_count": 15,
   "metadata": {
    "collapsed": false
   },
   "outputs": [
    {
     "data": {
      "text/plain": [
       "<matplotlib.axes._subplots.AxesSubplot at 0x109fbfba8>"
      ]
     },
     "execution_count": 15,
     "metadata": {},
     "output_type": "execute_result"
    },
    {
     "data": {
      "image/png": "[encoded data removed]",
      "text/plain": [
       "<matplotlib.figure.Figure at 0x1070c4978>"
      ]
     },
     "metadata": {},
     "output_type": "display_data"
    }
   ],
   "source": [
    "count_by_race_sex_400 = ssl_gte_400.groupby(['RACE', 'SEX_CODE_CD'])['SSL_SCORE'].count()\n",
    "count_by_race_sex_400.sort_values(ascending=False, inplace=True)\n",
    "count_by_race_sex_400.plot(kind='bar', title='SSL Score >= 400 by Race and Sex')"
   ]
  },
  {
   "cell_type": "code",
   "execution_count": 16,
   "metadata": {
    "collapsed": false
   },
   "outputs": [
    {
     "data": {
      "text/plain": [
       "<matplotlib.axes._subplots.AxesSubplot at 0x10a9e8898>"
      ]
     },
     "execution_count": 16,
     "metadata": {},
     "output_type": "execute_result"
    },
    {
     "data": {
      "image/png": "[encoded data removed]",
      "text/plain": [
       "<matplotlib.figure.Figure at 0x10bdf9b70>"
      ]
     },
     "metadata": {},
     "output_type": "display_data"
    }
   ],
   "source": [
    "count_by_race_sex_450 = ssl_gte_450.groupby(['RACE', 'SEX_CODE_CD'])['SSL_SCORE'].count()\n",
    "count_by_race_sex_450.sort_values(ascending=False, inplace=True)\n",
    "count_by_race_sex_450.plot(kind='bar', title='SSL Score >= 450 by Race and Sex')"
   ]
  },
  {
   "cell_type": "markdown",
   "metadata": {},
   "source": [
    "## Focus on Black and Latino Individuals\n",
    "\n",
    "There is a clear racial and gender disparity to who is on the list, whether the methodology is including potentially discriminatory variables or not. Given the size of this list compared to the overall population of Black and Latino residents, the pattern is concerning.\n",
    "\n",
    "For a particular focus on one demographic group, the 2015 American Community Survey found that Chicago has an estimated 72,739 Black men between the ages of 18 and 29. \n",
    "\n",
    "**Note:** This is assuming that the list would not include juveniles, so the \"less than 20\" category would be made up of 18-19, and that the \"20-30\" category represents ages 20-29 (given that the lowest category does not include the upper bound, and there is also a \"30-40\" category).\n",
    "\n",
    "### Particular Focus on Young Black Men\n",
    "\n",
    "**Alarmingly, this shows that 33,810 out of 60,112 Black men ages 20-29 in Chicago--56.25%--have SSL scores >= 250. In contrast, 5,185 out of 87,842 white men (5.9%) have SSL scores >= 250.**\n",
    "\n",
    "Going with the assumption that juveniles are not included, 52,279 out of 72,739 Black men between the ages of 18 and 29 in Chicago--71.87%--have scores of 250 or greater on the SSL. Additionally, 45,474--62.52%--have scores >= 300."
   ]
  },
  {
   "cell_type": "code",
   "execution_count": 19,
   "metadata": {
    "collapsed": false
   },
   "outputs": [
    {
     "name": "stdout",
     "output_type": "stream",
     "text": [
      "33,810 out of 60,112 Black men 20-29 in Chicago, or 56.25% have SSL scores >= 250\n"
     ]
    }
   ],
   "source": [
    "total_chi_bm_20_29 = 60112\n",
    "bm_20_29_250_df = ssl_gte_250.loc[(ssl_gte_250['RACE_CODE_CD'] == 'BLK') & \n",
    "                                  (ssl_gte_250['SEX_CODE_CD'] == 'M') & \n",
    "                                  (ssl_gte_250['AGE_GROUP'] == '20-30') &\n",
    "                                  (ssl_gte_250['LATEST_DIST_RES'] != 31)].copy()\n",
    "print('{:,} out of {:,} Black men 20-29 in Chicago, or {:.2f}% have SSL scores >= 250'.format(\n",
    "    bm_20_29_250_df['SSL_SCORE'].count(), total_chi_bm_20_29, (bm_20_29_250_df['SSL_SCORE'].count()/total_chi_bm_20_29)*100\n",
    "))"
   ]
  },
  {
   "cell_type": "code",
   "execution_count": 20,
   "metadata": {
    "collapsed": false
   },
   "outputs": [
    {
     "name": "stdout",
     "output_type": "stream",
     "text": [
      "5,185 out of 87,842 white men 20-29 in Chicago, or 5.90% have SSL scores >= 250\n"
     ]
    }
   ],
   "source": [
    "total_chi_wm_20_29 = 87842\n",
    "wm_20_29_250_df = ssl_gte_250.loc[(ssl_gte_250['RACE_CODE_CD'] == 'WHI') & \n",
    "                                  (ssl_gte_250['SEX_CODE_CD'] == 'M') & \n",
    "                                  (ssl_gte_250['AGE_GROUP'] == '20-30') &\n",
    "                                  (ssl_gte_250['LATEST_DIST_RES'] != 31)].copy()\n",
    "print('{:,} out of {:,} white men 20-29 in Chicago, or {:.2f}% have SSL scores >= 250'.format(\n",
    "    wm_20_29_250_df['SSL_SCORE'].count(), total_chi_wm_20_29, (wm_20_29_250_df['SSL_SCORE'].count()/total_chi_wm_20_29)*100\n",
    "))"
   ]
  },
  {
   "cell_type": "code",
   "execution_count": 21,
   "metadata": {
    "collapsed": false
   },
   "outputs": [
    {
     "name": "stdout",
     "output_type": "stream",
     "text": [
      "52,279 out of 72,739 young Black men in Chicago, or 71.87% have SSL scores >= 250\n"
     ]
    }
   ],
   "source": [
    "total_chi_ybm = 72739\n",
    "ybm_250_df = ssl_gte_250.loc[(ssl_gte_250['RACE_CODE_CD'] == 'BLK') & \n",
    "                             (ssl_gte_250['SEX_CODE_CD'] == 'M') & \n",
    "                             (ssl_gte_250['AGE_GROUP'].isin(['less than 20', '20-30'])) &\n",
    "                             (ssl_gte_250['LATEST_DIST_RES'] != 31)].copy()\n",
    "print('{:,} out of {:,} young Black men in Chicago, or {:.2f}% have SSL scores >= 250'.format(\n",
    "    ybm_250_df['SSL_SCORE'].count(), total_chi_ybm, (ybm_250_df['SSL_SCORE'].count()/total_chi_ybm)*100\n",
    "))"
   ]
  },
  {
   "cell_type": "code",
   "execution_count": 22,
   "metadata": {
    "collapsed": false
   },
   "outputs": [
    {
     "name": "stdout",
     "output_type": "stream",
     "text": [
      "45,474 out of 72,739 young Black men in Chicago, or 62.52% have SSL scores >= 300\n"
     ]
    }
   ],
   "source": [
    "ssl_gte_300 = ssl_df.loc[ssl_df['SSL_SCORE'] >= 300].copy()\n",
    "ybm_300_df = ssl_gte_300.loc[(ssl_gte_300['RACE_CODE_CD'] == 'BLK') & \n",
    "                             (ssl_gte_300['SEX_CODE_CD'] == 'M') & \n",
    "                             (ssl_gte_300['AGE_GROUP'].isin(['less than 20', '20-30'])) &\n",
    "                             (ssl_gte_300['LATEST_DIST_RES'] != 31)].copy()\n",
    "print('{:,} out of {:,} young Black men in Chicago, or {:.2f}% have SSL scores >= 300'.format(\n",
    "    ybm_300_df['SSL_SCORE'].count(), total_chi_ybm, (ybm_300_df['SSL_SCORE'].count()/total_chi_ybm)*100\n",
    "))"
   ]
  },
  {
   "cell_type": "code",
   "execution_count": null,
   "metadata": {
    "collapsed": true
   },
   "outputs": [],
   "source": []
  }
 ],
 "metadata": {
  "kernelspec": {
   "display_name": "Python 3",
   "language": "python",
   "name": "python3"
  },
  "language_info": {
   "codemirror_mode": {
    "name": "ipython",
    "version": 3
   },
   "file_extension": ".py",
   "mimetype": "text/x-python",
   "name": "python",
   "nbconvert_exporter": "python",
   "pygments_lexer": "ipython3",
   "version": "3.5.2"
  }
 },
 "nbformat": 4,
 "nbformat_minor": 2
}
