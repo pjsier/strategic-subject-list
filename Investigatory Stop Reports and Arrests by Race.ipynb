{
 "cells": [
  {
   "cell_type": "code",
   "execution_count": 1,
   "metadata": {
    "collapsed": true
   },
   "outputs": [],
   "source": [
    "import numpy as np\n",
    "import pandas as pd\n",
    "import matplotlib.pyplot as plt\n",
    "import seaborn as sns\n",
    "%matplotlib inline"
   ]
  },
  {
   "cell_type": "markdown",
   "metadata": {},
   "source": [
    "## Investigatory Stop Reports\n",
    "\n",
    "Given that individual arrest data is the main input for the SSL model, Investigatory Stop Reports (essentially CPD's contact cards for a stop-and-frisk-like program) are recorded and [published on CPD's website for Jan-1-16 through Feb-28-2017](http://home.chicagopolice.org/isr-data/). The download covers race as well as whether the stop ended in an arrest, as well as a large amount of other information There were a total of 132,996 recorded stops in this time period"
   ]
  },
  {
   "cell_type": "code",
   "execution_count": 2,
   "metadata": {
    "collapsed": false
   },
   "outputs": [
    {
     "name": "stderr",
     "output_type": "stream",
     "text": [
      "/Library/Frameworks/Python.framework/Versions/3.5/lib/python3.5/site-packages/IPython/core/interactiveshell.py:2717: DtypeWarning: Columns (0,4,11,13,14,16,18,19,22,23,29,35,37,38,39,40,41,42,43,44,45,46,47,48,49,50,51,52,54,59,63,64,65,66,72,74,75,100,102,103,104,110,111,117,119,120,121,132,134,138,139,140,141,142,143,144,146,148,150,152,153,154,155,156,157,159,161,163,164,166,169) have mixed types. Specify dtype option on import or set low_memory=False.\n",
      "  interactivity=interactivity, compiler=compiler, result=result)\n"
     ]
    },
    {
     "name": "stdout",
     "output_type": "stream",
     "text": [
      "<class 'pandas.core.frame.DataFrame'>\n",
      "RangeIndex: 132996 entries, 0 to 132995\n",
      "Data columns (total 171 columns):\n",
      "CONTACT_CARD_ID                   object\n",
      "CONTACT_TYPE_CD                   object\n",
      "CARD_NO                           object\n",
      "CONTACT_DATE                      object\n",
      "CONTACT_HOUR                      object\n",
      "SUBMITTING_BEAT_CD                object\n",
      "JUVENILE_I                        object\n",
      "CLOTHING_DESCR                    object\n",
      "NAME_VERIFIED_I                   object\n",
      "RD_NO                             object\n",
      "HOTSPOT_NO                        object\n",
      "EVENT_NO                          object\n",
      "MISSION_NO                        object\n",
      "CPD_UNIT_NO                       object\n",
      "CREATED_BY                        object\n",
      "CREATED_DATE                      object\n",
      "MODIFIED_BY                       object\n",
      "MODIFIED_DATE                     object\n",
      "AGE                               object\n",
      "AGE_TO                            object\n",
      "SEX_CODE_CD                       object\n",
      "RACE_CODE_CD                      object\n",
      "HEIGHT                            object\n",
      "WEIGHT                            object\n",
      "BUILD_CODE_CD                     object\n",
      "EYE_COLOR_CODE_CD                 object\n",
      "HAIR_COLOR_CODE_CD                object\n",
      "HAIR_STYLE_CODE_CD                object\n",
      "COMPLEXION_CODE_CD                object\n",
      "STREET_NO                         object\n",
      "STREET_DIRECTION_CD               object\n",
      "STREET_NME                        object\n",
      "APT_NO                            object\n",
      "CITY                              object\n",
      "STATE_CD                          object\n",
      "ZIP_CD                            object\n",
      "HALF_ADDRESS_I                    object\n",
      "DISTRICT                          object\n",
      "SECTOR                            object\n",
      "BEAT                              object\n",
      "AREA                              object\n",
      "WARD                              object\n",
      "RES_DISTRICT                      object\n",
      "RES_SECTOR                        object\n",
      "RES_BEAT                          object\n",
      "RES_AREA                          object\n",
      "RES_WARD                          object\n",
      "BUS_DISTRICT                      object\n",
      "BUS_SECTOR                        object\n",
      "BUS_BEAT                          object\n",
      "BUS_AREA                          object\n",
      "BUS_WARD                          object\n",
      "SUBMITTING_UNIT                   object\n",
      "CONTACT_TYPE_DESCR                object\n",
      "V_YEAR                            object\n",
      "MAKE_CD                           object\n",
      "MAKE_DESCR                        object\n",
      "STYLE_CD                          object\n",
      "STYLE_DESCR                       object\n",
      "TYPE_CD                           object\n",
      "MODEL_DESCR                       object\n",
      "COLOR_TOP                         object\n",
      "COLOR_BOTTOM                      object\n",
      "FO_EMPLOYEE_ID                    object\n",
      "SO_EMPLOYEE_ID                    object\n",
      "SUPV_EMPLOYEE_ID                  object\n",
      "GANG                              object\n",
      "KNOWN_HANGOUT                     object\n",
      "FACTION_NAME                      object\n",
      "CONTACT_CARD_STATUS_CD            object\n",
      "COMPLETION_I                      object\n",
      "LOCATION_CD                       object\n",
      "HANDCUFFED_I                      object\n",
      "VEHICLE_INVOLVED_I                object\n",
      "DISPERSAL_TIME                    object\n",
      "NUMBER_OF_PERSONS_DISPERSED       object\n",
      "GANG_LOOKOUT_I                    object\n",
      "GANG_SECURITY_I                   object\n",
      "INTIMIDATION_I                    object\n",
      "SUSPECT_NARCOTIC_ACTIVITY_I       object\n",
      "ENFORCEMENT_ACTION_TAKEN_I        object\n",
      "INDICATIVE_DRUG_TRANSACTION_I     object\n",
      "INDICATIVE_CASING_I               object\n",
      "FITS_DESCRIPTION_I                object\n",
      "PROXIMITY_TO_CRIME_I              object\n",
      "FITS_DESCRIPTION_OFFENDER_I       object\n",
      "GANG_NARCOTIC_RELATED_I           object\n",
      "OTHER_FACTOR_I                    object\n",
      "PAT_DOWN_I                        object\n",
      "PAT_DOWN_CONSENT_I                object\n",
      "PAT_DOWN_RECEIPT_GIVEN_I          object\n",
      "VERBAL_THREATS_I                  object\n",
      "KNOWLEDGE_OF_PRIOR_I              object\n",
      "ACTIONS_INDICATIVE_VIOLENCE_I     object\n",
      "VIOLENT_CRIME_I                   object\n",
      "SUSPICIOUS_OBJECT_I               object\n",
      "OTHER_REASONABLE_SUSPICION_I      object\n",
      "WEAPON_OR_CONTRABAND_FOUND_I      object\n",
      "FIREARM_I                         object\n",
      "COCAINE_I                         object\n",
      "COCAINE_AMOUNT                    object\n",
      "HEROIN_I                          object\n",
      "HEROIN_AMOUNT                     object\n",
      "OTHER_CONTRABAND_I                object\n",
      "OTHER_CONTRABAND_DESCR            object\n",
      "OTHER_WEAPON_I                    object\n",
      "OTHER_WEAPON_DESCR                object\n",
      "CANNABIS_I                        object\n",
      "CANNABIS_AMOUNT                   object\n",
      "OTHER_CON_SUB_I                   object\n",
      "OTHER_CON_SUB                     object\n",
      "OTHER_CON_SUB_AMT                 object\n",
      "SEARCH_I                          object\n",
      "SEARCH_CONSENT_I                  object\n",
      "SEARCH_CONTRABAND_FOUND_I         object\n",
      "SEARCH_FIREARM_I                  object\n",
      "SEARCH_COCAINE_I                  object\n",
      "SEARCH_COCAINE_AMOUNT             object\n",
      "SEARCH_HEROIN_I                   object\n",
      "SEARCH_HEROIN_AMOUNT              object\n",
      "SEARCH_OTHER_CONTRABAND_I         object\n",
      "SEARCH_OTHER_CONTRABAND_DESCR     object\n",
      "SEARCH_OTHER_WEAPON_I             object\n",
      "SEARCH_OTHER_WEAPON_DESCR         object\n",
      "SEARCH_CANNABIS_I                 object\n",
      "SEARCH_CANNABIS_AMOUNT            object\n",
      "SEARCH_OTHER_CON_SUB_I            object\n",
      "SEARCH_OTHER_CON_SUB_DESCR        object\n",
      "SEARCH_OTHER_CON_SUB_AMT          object\n",
      "EVENT_ASSIGNEED_BY_CD             object\n",
      "BODY_CAMERA_I                     object\n",
      "CAR_CAMERA_I                      object\n",
      "VEHICLE_STOPPED_I                 object\n",
      "INFORMATION_REFUSED_I             object\n",
      "FACIAL_HAIR_CD                    object\n",
      "GANG_OTHER_I                      object\n",
      "ENFORCEMENT_TYPE_CD               object\n",
      "ENFORCEMENT_ID_NO                 object\n",
      "CITED_VIOLATIONS_CD               object\n",
      "CANNABIS_INVENTORY_NO             object\n",
      "COCAINE_INVENTORY_NO              object\n",
      "HEROIN_INVENTORY_NO               object\n",
      "OTHER_CON_SUB_INVENTORY_NO        object\n",
      "FIREARM_INVENTORY_NO              object\n",
      "OTHER_WEAPON_INVENTORY_NO         object\n",
      "ALCOHOL_I                         object\n",
      "ALCOHOL_INVENTORY_NO              object\n",
      "PARA_I                            object\n",
      "PARA_INVENTORY_NO                 object\n",
      "STOLEN_PROPERTY_I                 object\n",
      "STOLEN_PROPERTY_INVENTORY_NO      object\n",
      "SEARCH_PROPERTY_I                 object\n",
      "S_CANNABIS_INVENTORY_NO           object\n",
      "S_COCAINE_INVENTORY_NO            object\n",
      "S_HEROIN_INVENTORY_NO             object\n",
      "S_OTHER_CON_SUB_INVENTORY_NO      object\n",
      "S_FIREARM_INVENTORY_NO            object\n",
      "S_OTHER_WEAPON_INVENTORY_NO       object\n",
      "S_ALCOHOL_I                       object\n",
      "S_ALCOHOL_INVENTORY_NO            object\n",
      "S_PARA_I                          object\n",
      "S_PARA_INVENTORY_NO               object\n",
      "S_STOLEN_PROPERTY_I               object\n",
      "S_STOLEN_PROPERTY_INVENTORY_NO    object\n",
      "GANG_OTHER                        object\n",
      "OTHER_DESCR                       object\n",
      "OTHER_INVENTORY_NO                object\n",
      "S_OTHER_I                         object\n",
      "S_OTHER_DESCR                     object\n",
      "S_OTHER_INVENTORY_NO              object\n",
      "NAME                              object\n",
      "dtypes: object(171)\n",
      "memory usage: 173.5+ MB\n"
     ]
    }
   ],
   "source": [
    "isr_df = pd.read_csv('data/cpd_isr_data_2016_01_2017_02.csv')\n",
    "isr_df.info(verbose=True)"
   ]
  },
  {
   "cell_type": "markdown",
   "metadata": {},
   "source": [
    "### Redactions\n",
    "\n",
    "All information relating to stops with juveniles is redacted, so that can be excluded from any breakdowns"
   ]
  },
  {
   "cell_type": "code",
   "execution_count": 3,
   "metadata": {
    "collapsed": false
   },
   "outputs": [
    {
     "name": "stdout",
     "output_type": "stream",
     "text": [
      "There were 21,217 stops with juveniles where information is redacted.\n",
      "After redactions, there were 111,779 ISR stops between Jan 1 2016 and Feb 28 2017\n"
     ]
    }
   ],
   "source": [
    "print('There were {:,} stops with juveniles where information is redacted.'.format(isr_df.loc[isr_df['JUVENILE_I'] != 'N', 'CONTACT_CARD_ID'].count()))\n",
    "\n",
    "isr_df = isr_df.loc[isr_df['JUVENILE_I'] == 'N'].copy()\n",
    "print('After redactions, there were {:,} ISR stops between Jan 1 2016 and Feb 28 2017'.format(isr_df['CONTACT_CARD_ID'].count()))"
   ]
  },
  {
   "cell_type": "code",
   "execution_count": 4,
   "metadata": {
    "collapsed": true
   },
   "outputs": [],
   "source": [
    "# Converting CPD race codes to clear meanings\n",
    "cpd_race_map = {\n",
    "    'BLK': 'BLACK',\n",
    "    'WHI': 'WHITE',\n",
    "    'WHT': 'WHITE',\n",
    "    'API': 'ASIAN/PACIFIC ISLANDER',\n",
    "    'WBH': 'BLACK HISPANIC',\n",
    "    'WWH': 'WHITE HISPANIC',\n",
    "    'I': 'AMER IND/ALASKAN NATIVE',\n",
    "    'U': 'UKNOWN'\n",
    "}\n",
    "\n",
    "isr_df['RACE'] = isr_df['RACE_CODE_CD'].apply(lambda x: cpd_race_map.get(x, 'U'))"
   ]
  },
  {
   "cell_type": "code",
   "execution_count": 5,
   "metadata": {
    "collapsed": false
   },
   "outputs": [
    {
     "data": {
      "text/plain": [
       "<matplotlib.axes._subplots.AxesSubplot at 0x10c82e0b8>"
      ]
     },
     "execution_count": 5,
     "metadata": {},
     "output_type": "execute_result"
    },
    {
     "data": {
      "image/png": "[encoded data removed]",
      "text/plain": [
       "<matplotlib.figure.Figure at 0x10c819470>"
      ]
     },
     "metadata": {},
     "output_type": "display_data"
    }
   ],
   "source": [
    "plt.rcParams[\"figure.figsize\"] = [15, 5]\n",
    "\n",
    "isr_by_race = isr_df.groupby('RACE')['CONTACT_CARD_ID'].count()\n",
    "isr_by_race.sort_values(ascending=False, inplace=True)\n",
    "isr_by_race.plot(kind='bar', title='ISR Stops by Race Jan 2016-Feb 2017')"
   ]
  },
  {
   "cell_type": "code",
   "execution_count": 6,
   "metadata": {
    "collapsed": false
   },
   "outputs": [
    {
     "data": {
      "text/plain": [
       "0    21\n",
       "1    28\n",
       "2    35\n",
       "3    28\n",
       "4    25\n",
       "Name: AGE, dtype: int64"
      ]
     },
     "execution_count": 6,
     "metadata": {},
     "output_type": "execute_result"
    }
   ],
   "source": [
    "isr_df['AGE'] = isr_df['AGE'].fillna(0)\n",
    "isr_df['AGE'] = isr_df['AGE'].apply(lambda x: int(x))\n",
    "isr_df['AGE'] = isr_df['AGE'].astype(int)\n",
    "isr_df['AGE'].head()"
   ]
  },
  {
   "cell_type": "code",
   "execution_count": 7,
   "metadata": {
    "collapsed": false
   },
   "outputs": [
    {
     "data": {
      "text/plain": [
       "array(['CHICAGO', 'CHICAGO ', 'OAK PARK', 'CHCICAGO', 'CHCIAGO', 'CHICAG',\n",
       "       'CGICAGO', 'BEDFORD PARK', 'CHIACGO', 'CALUMET PARK', 'CHICAGO.',\n",
       "       'CHCAGO', 'CHICCAGO', 'CHICGO', 'CHICAGI', 'CHIAGO', 'CHCIAGO ',\n",
       "       'CALUMET CITY ', 'CICERO', 'CHIICAGO ', 'MIDLOTHIAN', 'CHICAGOQ',\n",
       "       'CHIACGO ', 'CHICAGOI', 'CHGO ', ' CHICAGO', 'CHIICAGO',\n",
       "       'CHICAGO  ', 'CHICAG0', 'CHICAHO', 'COOK COUNTY ILLINOIS CHICAGO',\n",
       "       'EVANSTON', 'CHIAGO ', 'LANSING', 'EVERGREN PARK', 'BENSENVILLE',\n",
       "       'SHILLER PARK', 'MARKHAM', 'WOOD DALE', 'PARK FOREST',\n",
       "       'HARWOOD HTS', 'CAL PARK', 'CITY OF CHICAGO', 'EVENSTON',\n",
       "       'RIVER GROVE', 'EVERGREEN PARK', 'CHICAO', 'ROCKFORD',\n",
       "       'LINCOLNWOOD', 'BURBANK', 'CHIC AGO', 'CHGO', 'RIVERDALE',\n",
       "       'NORRIDGE', 'BERWYN', 'OACK PARK', 'ELMWOOD PARK', 'CHICAGGO',\n",
       "       'PARK RIDGE', 'OAKPARK', nan, 'CHI CAGO', 'HARWOOD HEIGHTS',\n",
       "       'EAST CHICAGO', 'HAMMOND', 'CALUMET CITY', 'ROSEMONT',\n",
       "       'BLUE ISLAND', 'MAYWOOD', 'CHICAGO RIDGE', 'ALSIP', 'CHCIGAO'], dtype=object)"
      ]
     },
     "execution_count": 7,
     "metadata": {},
     "output_type": "execute_result"
    }
   ],
   "source": [
    "isr_df['CITY'].unique()"
   ]
  },
  {
   "cell_type": "code",
   "execution_count": 8,
   "metadata": {
    "collapsed": true
   },
   "outputs": [],
   "source": [
    "chicago_arr = ['CHICAGO', 'CHICAGO ', 'CHCICAGO', 'CHCIAGO', 'CHICAG',\n",
    "       'CGICAGO', 'CHIACGO', 'CHICAGO.',\n",
    "       'CHCAGO', 'CHICCAGO', 'CHICGO', 'CHICAGI', 'CHIAGO', 'CHCIAGO ',\n",
    "       'CHIICAGO ', 'CHICAGOQ',\n",
    "       'CHIACGO ', 'CHICAGOI', 'CHGO ', ' CHICAGO', 'CHIICAGO',\n",
    "       'CHICAGO  ', 'CHICAG0', 'CHICAHO', 'COOK COUNTY ILLINOIS CHICAGO',\n",
    "       'CHIAGO ', 'CITY OF CHICAGO', 'CHICAO', 'CHIC AGO', 'CHGO', \n",
    "       'CHICAGGO', 'CHI CAGO', 'CHCIGAO']"
   ]
  },
  {
   "cell_type": "code",
   "execution_count": 9,
   "metadata": {
    "collapsed": false
   },
   "outputs": [
    {
     "name": "stdout",
     "output_type": "stream",
     "text": [
      "There were 27,863 Black men between the ages of 20 and 29 included in Chicago ISR records\n"
     ]
    }
   ],
   "source": [
    "black_men_20_29 = isr_df.loc[(isr_df['RACE'] == 'BLACK') &\n",
    "                             (isr_df['AGE'] < 30) &\n",
    "                             (isr_df['AGE'] > 19) &\n",
    "                             (isr_df['SEX_CODE_CD'] == 'M') & \n",
    "                             (isr_df['CITY'].isin(chicago_arr))].copy()\n",
    "print('There were {:,} Black men between the ages of 20 and 29 included in Chicago ISR records'.format(black_men_20_29['CONTACT_CARD_ID'].count()))"
   ]
  },
  {
   "cell_type": "code",
   "execution_count": 10,
   "metadata": {
    "collapsed": false
   },
   "outputs": [
    {
     "data": {
      "text/plain": [
       "<matplotlib.axes._subplots.AxesSubplot at 0x1090f6860>"
      ]
     },
     "execution_count": 10,
     "metadata": {},
     "output_type": "execute_result"
    },
    {
     "data": {
      "image/png": "[encoded data removed]",
      "text/plain": [
       "<matplotlib.figure.Figure at 0x11477e940>"
      ]
     },
     "metadata": {},
     "output_type": "display_data"
    }
   ],
   "source": [
    "bm_isr_enforcement = black_men_20_29.groupby('ENFORCEMENT_TYPE_CD')['CONTACT_CARD_ID'].count()\n",
    "bm_isr_enforcement.sort_values(ascending=False, inplace=True)\n",
    "bm_isr_enforcement.plot(kind='bar', title='ISR Counts w/Black Men 20-29 by Enforcement')"
   ]
  },
  {
   "cell_type": "code",
   "execution_count": 11,
   "metadata": {
    "collapsed": false
   },
   "outputs": [
    {
     "name": "stdout",
     "output_type": "stream",
     "text": [
      "There were 4,887 Black men between the ages of 20 and 29 arrested during ISRs in Chicago in the time period\n"
     ]
    }
   ],
   "source": [
    "print('There were {:,} Black men between the ages of 20 and 29 arrested during ISRs in Chicago in the time period'.format(\n",
    "    black_men_20_29.loc[black_men_20_29['ENFORCEMENT_TYPE_CD'] == 'ARR', 'CONTACT_CARD_ID'].count()\n",
    "))"
   ]
  },
  {
   "cell_type": "code",
   "execution_count": 12,
   "metadata": {
    "collapsed": false
   },
   "outputs": [
    {
     "name": "stdout",
     "output_type": "stream",
     "text": [
      "There were 2,530 White men between the ages of 20 and 29 included in Chicago ISR records\n"
     ]
    }
   ],
   "source": [
    "white_men_20_29 = isr_df.loc[(isr_df['RACE'] == 'WHITE') &\n",
    "                             (isr_df['AGE'] < 30) &\n",
    "                             (isr_df['AGE'] > 19) &\n",
    "                             (isr_df['SEX_CODE_CD'] == 'M') &\n",
    "                             (isr_df['CITY'].isin(chicago_arr))].copy()\n",
    "print('There were {:,} White men between the ages of 20 and 29 included in Chicago ISR records'.format(white_men_20_29['CONTACT_CARD_ID'].count()))"
   ]
  },
  {
   "cell_type": "code",
   "execution_count": 13,
   "metadata": {
    "collapsed": false
   },
   "outputs": [
    {
     "data": {
      "text/plain": [
       "<matplotlib.axes._subplots.AxesSubplot at 0x11acdfcf8>"
      ]
     },
     "execution_count": 13,
     "metadata": {},
     "output_type": "execute_result"
    },
    {
     "data": {
      "image/png": "[encoded data removed]",
      "text/plain": [
       "<matplotlib.figure.Figure at 0x11af07a20>"
      ]
     },
     "metadata": {},
     "output_type": "display_data"
    }
   ],
   "source": [
    "wm_isr_enforcement = white_men_20_29.groupby('ENFORCEMENT_TYPE_CD')['CONTACT_CARD_ID'].count()\n",
    "wm_isr_enforcement.sort_values(ascending=False, inplace=True)\n",
    "wm_isr_enforcement.plot(kind='bar', title='ISR Counts w/White Men 20-29 by Enforcement')"
   ]
  },
  {
   "cell_type": "code",
   "execution_count": 14,
   "metadata": {
    "collapsed": false
   },
   "outputs": [
    {
     "name": "stdout",
     "output_type": "stream",
     "text": [
      "There were 369 White men between the ages of 20 and 29 arrested during ISRs in Chicago in the time period\n"
     ]
    }
   ],
   "source": [
    "print('There were {:,} White men between the ages of 20 and 29 arrested during ISRs in Chicago in the time period'.format(\n",
    "    white_men_20_29.loc[white_men_20_29['ENFORCEMENT_TYPE_CD'] == 'ARR', 'CONTACT_CARD_ID'].count()\n",
    "))"
   ]
  },
  {
   "cell_type": "markdown",
   "metadata": {},
   "source": [
    "## ISR Arrest Comparisons\n",
    "\n",
    "There were 27,863 Black men between the ages of 20 and 29 stopped through ISRs in Chicago in this time period, while only 2,530 White men in that age range were stopped. Additionally, during these stops, 4,887 Black men were arrested, while only 369 White men were arrested.\n",
    "\n",
    "This is relevant because the SSL's main inputs come from arrest records, but, as has been demonstrated before, arrests and police enforcement in Chicago are heavily influence by race--particulary during ISR stops. Additionally, there were only 5,192 White men in Chicago between the ages of 20 and 29 assigned any score at all through the SSL list. The number of Black men in that age range in Chicago arrested in this single 13-month time period (4,887) is almost that size. This trend of racialized arrests likely continues to influence the SSL model's predictions moving forward, and raises serious concerns about the patterns it identifies."
   ]
  },
  {
   "cell_type": "code",
   "execution_count": null,
   "metadata": {
    "collapsed": true
   },
   "outputs": [],
   "source": []
  }
 ],
 "metadata": {
  "kernelspec": {
   "display_name": "Python 3",
   "language": "python",
   "name": "python3"
  },
  "language_info": {
   "codemirror_mode": {
    "name": "ipython",
    "version": 3
   },
   "file_extension": ".py",
   "mimetype": "text/x-python",
   "name": "python",
   "nbconvert_exporter": "python",
   "pygments_lexer": "ipython3",
   "version": "3.5.2"
  }
 },
 "nbformat": 4,
 "nbformat_minor": 2
}
